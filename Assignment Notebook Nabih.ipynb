{
    "cells": [
        {
            "cell_type": "markdown",
            "metadata": {
                "collapsed": true
            },
            "source": "# Segmenting and Clustering Neighborhoods in Toronto"
        },
        {
            "cell_type": "markdown",
            "metadata": {},
            "source": "Question 1"
        },
        {
            "cell_type": "code",
            "execution_count": 32,
            "metadata": {},
            "outputs": [],
            "source": "import pandas as pd\nimport numpy as np"
        },
        {
            "cell_type": "code",
            "execution_count": 33,
            "metadata": {},
            "outputs": [],
            "source": "df = pd.read_html('https://en.wikipedia.org/wiki/List_of_postal_codes_of_Canada:_M')[0]"
        },
        {
            "cell_type": "markdown",
            "metadata": {},
            "source": "Deleting the rows with \"Not assigned\" in the Borough column"
        },
        {
            "cell_type": "code",
            "execution_count": 34,
            "metadata": {},
            "outputs": [],
            "source": "df=df.replace('Not assigned',np.NaN)\ndf=df.dropna(subset=[\"Borough\"], axis=0) \ndf.reset_index(drop=True, inplace=True)  "
        },
        {
            "cell_type": "markdown",
            "metadata": {},
            "source": "Grouping all the neighborhoods with the same postal code"
        },
        {
            "cell_type": "code",
            "execution_count": 35,
            "metadata": {},
            "outputs": [],
            "source": "df1=df.groupby('Postal Code')['Neighbourhood'].apply(list).reset_index(name='Neighbourhood')"
        },
        {
            "cell_type": "markdown",
            "metadata": {},
            "source": "Merging both dataframes only for the unique postal codes"
        },
        {
            "cell_type": "code",
            "execution_count": 36,
            "metadata": {},
            "outputs": [],
            "source": "df2 = pd.merge(df1, df, how='outer', on=['Postal Code'])\ndf2=df2[['Postal Code','Neighbourhood_x','Borough']]\ndf2.rename(columns={'Neighbourhood_x':'Neighbourhood'},inplace=True)"
        },
        {
            "cell_type": "code",
            "execution_count": 37,
            "metadata": {},
            "outputs": [],
            "source": "postals=df2[['Postal Code']]\nneighs=df2[['Neighbourhood']]\nboroughs=df2[['Borough']]"
        },
        {
            "cell_type": "markdown",
            "metadata": {},
            "source": "Assigning the borough name to the neighborhoods labeled \"Not assigned\""
        },
        {
            "cell_type": "code",
            "execution_count": 38,
            "metadata": {},
            "outputs": [],
            "source": "for neigh, borough in zip(neighs , boroughs):\n    if neigh == \"Not Assigned\":\n        neigh = borough"
        },
        {
            "cell_type": "code",
            "execution_count": 39,
            "metadata": {},
            "outputs": [
                {
                    "data": {
                        "text/html": "<div>\n<style scoped>\n    .dataframe tbody tr th:only-of-type {\n        vertical-align: middle;\n    }\n\n    .dataframe tbody tr th {\n        vertical-align: top;\n    }\n\n    .dataframe thead th {\n        text-align: right;\n    }\n</style>\n<table border=\"1\" class=\"dataframe\">\n  <thead>\n    <tr style=\"text-align: right;\">\n      <th></th>\n      <th>Postal Code</th>\n      <th>Neighbourhood</th>\n      <th>Borough</th>\n    </tr>\n  </thead>\n  <tbody>\n    <tr>\n      <th>0</th>\n      <td>M1B</td>\n      <td>[Malvern, Rouge]</td>\n      <td>Scarborough</td>\n    </tr>\n    <tr>\n      <th>1</th>\n      <td>M1C</td>\n      <td>[Rouge Hill, Port Union, Highland Creek]</td>\n      <td>Scarborough</td>\n    </tr>\n    <tr>\n      <th>2</th>\n      <td>M1E</td>\n      <td>[Guildwood, Morningside, West Hill]</td>\n      <td>Scarborough</td>\n    </tr>\n    <tr>\n      <th>3</th>\n      <td>M1G</td>\n      <td>[Woburn]</td>\n      <td>Scarborough</td>\n    </tr>\n    <tr>\n      <th>4</th>\n      <td>M1H</td>\n      <td>[Cedarbrae]</td>\n      <td>Scarborough</td>\n    </tr>\n    <tr>\n      <th>5</th>\n      <td>M1J</td>\n      <td>[Scarborough Village]</td>\n      <td>Scarborough</td>\n    </tr>\n    <tr>\n      <th>6</th>\n      <td>M1K</td>\n      <td>[Kennedy Park, Ionview, East Birchmount Park]</td>\n      <td>Scarborough</td>\n    </tr>\n    <tr>\n      <th>7</th>\n      <td>M1L</td>\n      <td>[Golden Mile, Clairlea, Oakridge]</td>\n      <td>Scarborough</td>\n    </tr>\n    <tr>\n      <th>8</th>\n      <td>M1M</td>\n      <td>[Cliffside, Cliffcrest, Scarborough Village West]</td>\n      <td>Scarborough</td>\n    </tr>\n    <tr>\n      <th>9</th>\n      <td>M1N</td>\n      <td>[Birch Cliff, Cliffside West]</td>\n      <td>Scarborough</td>\n    </tr>\n    <tr>\n      <th>10</th>\n      <td>M1P</td>\n      <td>[Dorset Park, Wexford Heights, Scarborough Tow...</td>\n      <td>Scarborough</td>\n    </tr>\n    <tr>\n      <th>11</th>\n      <td>M1R</td>\n      <td>[Wexford, Maryvale]</td>\n      <td>Scarborough</td>\n    </tr>\n    <tr>\n      <th>12</th>\n      <td>M1S</td>\n      <td>[Agincourt]</td>\n      <td>Scarborough</td>\n    </tr>\n    <tr>\n      <th>13</th>\n      <td>M1T</td>\n      <td>[Clarks Corners, Tam O'Shanter, Sullivan]</td>\n      <td>Scarborough</td>\n    </tr>\n    <tr>\n      <th>14</th>\n      <td>M1V</td>\n      <td>[Milliken, Agincourt North, Steeles East, L'Am...</td>\n      <td>Scarborough</td>\n    </tr>\n    <tr>\n      <th>15</th>\n      <td>M1W</td>\n      <td>[Steeles West, L'Amoreaux West]</td>\n      <td>Scarborough</td>\n    </tr>\n    <tr>\n      <th>16</th>\n      <td>M1X</td>\n      <td>[Upper Rouge]</td>\n      <td>Scarborough</td>\n    </tr>\n    <tr>\n      <th>17</th>\n      <td>M2H</td>\n      <td>[Hillcrest Village]</td>\n      <td>North York</td>\n    </tr>\n    <tr>\n      <th>18</th>\n      <td>M2J</td>\n      <td>[Fairview, Henry Farm, Oriole]</td>\n      <td>North York</td>\n    </tr>\n    <tr>\n      <th>19</th>\n      <td>M2K</td>\n      <td>[Bayview Village]</td>\n      <td>North York</td>\n    </tr>\n    <tr>\n      <th>20</th>\n      <td>M2L</td>\n      <td>[York Mills, Silver Hills]</td>\n      <td>North York</td>\n    </tr>\n    <tr>\n      <th>21</th>\n      <td>M2M</td>\n      <td>[Willowdale, Newtonbrook]</td>\n      <td>North York</td>\n    </tr>\n    <tr>\n      <th>22</th>\n      <td>M2N</td>\n      <td>[Willowdale, Willowdale East]</td>\n      <td>North York</td>\n    </tr>\n    <tr>\n      <th>23</th>\n      <td>M2P</td>\n      <td>[York Mills West]</td>\n      <td>North York</td>\n    </tr>\n    <tr>\n      <th>24</th>\n      <td>M2R</td>\n      <td>[Willowdale, Willowdale West]</td>\n      <td>North York</td>\n    </tr>\n    <tr>\n      <th>25</th>\n      <td>M3A</td>\n      <td>[Parkwoods]</td>\n      <td>North York</td>\n    </tr>\n    <tr>\n      <th>26</th>\n      <td>M3B</td>\n      <td>[Don Mills]</td>\n      <td>North York</td>\n    </tr>\n    <tr>\n      <th>27</th>\n      <td>M3C</td>\n      <td>[Don Mills]</td>\n      <td>North York</td>\n    </tr>\n    <tr>\n      <th>28</th>\n      <td>M3H</td>\n      <td>[Bathurst Manor, Wilson Heights, Downsview North]</td>\n      <td>North York</td>\n    </tr>\n    <tr>\n      <th>29</th>\n      <td>M3J</td>\n      <td>[Northwood Park, York University]</td>\n      <td>North York</td>\n    </tr>\n    <tr>\n      <th>...</th>\n      <td>...</td>\n      <td>...</td>\n      <td>...</td>\n    </tr>\n    <tr>\n      <th>73</th>\n      <td>M6C</td>\n      <td>[Humewood-Cedarvale]</td>\n      <td>York</td>\n    </tr>\n    <tr>\n      <th>74</th>\n      <td>M6E</td>\n      <td>[Caledonia-Fairbanks]</td>\n      <td>York</td>\n    </tr>\n    <tr>\n      <th>75</th>\n      <td>M6G</td>\n      <td>[Christie]</td>\n      <td>Downtown Toronto</td>\n    </tr>\n    <tr>\n      <th>76</th>\n      <td>M6H</td>\n      <td>[Dufferin, Dovercourt Village]</td>\n      <td>West Toronto</td>\n    </tr>\n    <tr>\n      <th>77</th>\n      <td>M6J</td>\n      <td>[Little Portugal, Trinity]</td>\n      <td>West Toronto</td>\n    </tr>\n    <tr>\n      <th>78</th>\n      <td>M6K</td>\n      <td>[Brockton, Parkdale Village, Exhibition Place]</td>\n      <td>West Toronto</td>\n    </tr>\n    <tr>\n      <th>79</th>\n      <td>M6L</td>\n      <td>[North Park, Maple Leaf Park, Upwood Park]</td>\n      <td>North York</td>\n    </tr>\n    <tr>\n      <th>80</th>\n      <td>M6M</td>\n      <td>[Del Ray, Mount Dennis, Keelsdale and Silverth...</td>\n      <td>York</td>\n    </tr>\n    <tr>\n      <th>81</th>\n      <td>M6N</td>\n      <td>[Runnymede, The Junction North]</td>\n      <td>York</td>\n    </tr>\n    <tr>\n      <th>82</th>\n      <td>M6P</td>\n      <td>[High Park, The Junction South]</td>\n      <td>West Toronto</td>\n    </tr>\n    <tr>\n      <th>83</th>\n      <td>M6R</td>\n      <td>[Parkdale, Roncesvalles]</td>\n      <td>West Toronto</td>\n    </tr>\n    <tr>\n      <th>84</th>\n      <td>M6S</td>\n      <td>[Runnymede, Swansea]</td>\n      <td>West Toronto</td>\n    </tr>\n    <tr>\n      <th>85</th>\n      <td>M7A</td>\n      <td>[Queen's Park, Ontario Provincial Government]</td>\n      <td>Downtown Toronto</td>\n    </tr>\n    <tr>\n      <th>86</th>\n      <td>M7R</td>\n      <td>[Canada Post Gateway Processing Centre]</td>\n      <td>Mississauga</td>\n    </tr>\n    <tr>\n      <th>87</th>\n      <td>M7Y</td>\n      <td>[Business reply mail Processing Centre, South ...</td>\n      <td>East Toronto</td>\n    </tr>\n    <tr>\n      <th>88</th>\n      <td>M8V</td>\n      <td>[New Toronto, Mimico South, Humber Bay Shores]</td>\n      <td>Etobicoke</td>\n    </tr>\n    <tr>\n      <th>89</th>\n      <td>M8W</td>\n      <td>[Alderwood, Long Branch]</td>\n      <td>Etobicoke</td>\n    </tr>\n    <tr>\n      <th>90</th>\n      <td>M8X</td>\n      <td>[The Kingsway, Montgomery Road, Old Mill North]</td>\n      <td>Etobicoke</td>\n    </tr>\n    <tr>\n      <th>91</th>\n      <td>M8Y</td>\n      <td>[Old Mill South, King's Mill Park, Sunnylea, H...</td>\n      <td>Etobicoke</td>\n    </tr>\n    <tr>\n      <th>92</th>\n      <td>M8Z</td>\n      <td>[Mimico NW, The Queensway West, South of Bloor...</td>\n      <td>Etobicoke</td>\n    </tr>\n    <tr>\n      <th>93</th>\n      <td>M9A</td>\n      <td>[Islington Avenue, Humber Valley Village]</td>\n      <td>Etobicoke</td>\n    </tr>\n    <tr>\n      <th>94</th>\n      <td>M9B</td>\n      <td>[West Deane Park, Princess Gardens, Martin Gro...</td>\n      <td>Etobicoke</td>\n    </tr>\n    <tr>\n      <th>95</th>\n      <td>M9C</td>\n      <td>[Eringate, Bloordale Gardens, Old Burnhamthorp...</td>\n      <td>Etobicoke</td>\n    </tr>\n    <tr>\n      <th>96</th>\n      <td>M9L</td>\n      <td>[Humber Summit]</td>\n      <td>North York</td>\n    </tr>\n    <tr>\n      <th>97</th>\n      <td>M9M</td>\n      <td>[Humberlea, Emery]</td>\n      <td>North York</td>\n    </tr>\n    <tr>\n      <th>98</th>\n      <td>M9N</td>\n      <td>[Weston]</td>\n      <td>York</td>\n    </tr>\n    <tr>\n      <th>99</th>\n      <td>M9P</td>\n      <td>[Westmount]</td>\n      <td>Etobicoke</td>\n    </tr>\n    <tr>\n      <th>100</th>\n      <td>M9R</td>\n      <td>[Kingsview Village, St. Phillips, Martin Grove...</td>\n      <td>Etobicoke</td>\n    </tr>\n    <tr>\n      <th>101</th>\n      <td>M9V</td>\n      <td>[South Steeles, Silverstone, Humbergate, James...</td>\n      <td>Etobicoke</td>\n    </tr>\n    <tr>\n      <th>102</th>\n      <td>M9W</td>\n      <td>[Northwest, West Humber - Clairville]</td>\n      <td>Etobicoke</td>\n    </tr>\n  </tbody>\n</table>\n<p>103 rows \u00d7 3 columns</p>\n</div>",
                        "text/plain": "    Postal Code                                      Neighbourhood  \\\n0           M1B                                   [Malvern, Rouge]   \n1           M1C           [Rouge Hill, Port Union, Highland Creek]   \n2           M1E                [Guildwood, Morningside, West Hill]   \n3           M1G                                           [Woburn]   \n4           M1H                                        [Cedarbrae]   \n5           M1J                              [Scarborough Village]   \n6           M1K      [Kennedy Park, Ionview, East Birchmount Park]   \n7           M1L                  [Golden Mile, Clairlea, Oakridge]   \n8           M1M  [Cliffside, Cliffcrest, Scarborough Village West]   \n9           M1N                      [Birch Cliff, Cliffside West]   \n10          M1P  [Dorset Park, Wexford Heights, Scarborough Tow...   \n11          M1R                                [Wexford, Maryvale]   \n12          M1S                                        [Agincourt]   \n13          M1T          [Clarks Corners, Tam O'Shanter, Sullivan]   \n14          M1V  [Milliken, Agincourt North, Steeles East, L'Am...   \n15          M1W                    [Steeles West, L'Amoreaux West]   \n16          M1X                                      [Upper Rouge]   \n17          M2H                                [Hillcrest Village]   \n18          M2J                     [Fairview, Henry Farm, Oriole]   \n19          M2K                                  [Bayview Village]   \n20          M2L                         [York Mills, Silver Hills]   \n21          M2M                          [Willowdale, Newtonbrook]   \n22          M2N                      [Willowdale, Willowdale East]   \n23          M2P                                  [York Mills West]   \n24          M2R                      [Willowdale, Willowdale West]   \n25          M3A                                        [Parkwoods]   \n26          M3B                                        [Don Mills]   \n27          M3C                                        [Don Mills]   \n28          M3H  [Bathurst Manor, Wilson Heights, Downsview North]   \n29          M3J                  [Northwood Park, York University]   \n..          ...                                                ...   \n73          M6C                               [Humewood-Cedarvale]   \n74          M6E                              [Caledonia-Fairbanks]   \n75          M6G                                         [Christie]   \n76          M6H                     [Dufferin, Dovercourt Village]   \n77          M6J                         [Little Portugal, Trinity]   \n78          M6K     [Brockton, Parkdale Village, Exhibition Place]   \n79          M6L         [North Park, Maple Leaf Park, Upwood Park]   \n80          M6M  [Del Ray, Mount Dennis, Keelsdale and Silverth...   \n81          M6N                    [Runnymede, The Junction North]   \n82          M6P                    [High Park, The Junction South]   \n83          M6R                           [Parkdale, Roncesvalles]   \n84          M6S                               [Runnymede, Swansea]   \n85          M7A      [Queen's Park, Ontario Provincial Government]   \n86          M7R            [Canada Post Gateway Processing Centre]   \n87          M7Y  [Business reply mail Processing Centre, South ...   \n88          M8V     [New Toronto, Mimico South, Humber Bay Shores]   \n89          M8W                           [Alderwood, Long Branch]   \n90          M8X    [The Kingsway, Montgomery Road, Old Mill North]   \n91          M8Y  [Old Mill South, King's Mill Park, Sunnylea, H...   \n92          M8Z  [Mimico NW, The Queensway West, South of Bloor...   \n93          M9A          [Islington Avenue, Humber Valley Village]   \n94          M9B  [West Deane Park, Princess Gardens, Martin Gro...   \n95          M9C  [Eringate, Bloordale Gardens, Old Burnhamthorp...   \n96          M9L                                    [Humber Summit]   \n97          M9M                                 [Humberlea, Emery]   \n98          M9N                                           [Weston]   \n99          M9P                                        [Westmount]   \n100         M9R  [Kingsview Village, St. Phillips, Martin Grove...   \n101         M9V  [South Steeles, Silverstone, Humbergate, James...   \n102         M9W              [Northwest, West Humber - Clairville]   \n\n              Borough  \n0         Scarborough  \n1         Scarborough  \n2         Scarborough  \n3         Scarborough  \n4         Scarborough  \n5         Scarborough  \n6         Scarborough  \n7         Scarborough  \n8         Scarborough  \n9         Scarborough  \n10        Scarborough  \n11        Scarborough  \n12        Scarborough  \n13        Scarborough  \n14        Scarborough  \n15        Scarborough  \n16        Scarborough  \n17         North York  \n18         North York  \n19         North York  \n20         North York  \n21         North York  \n22         North York  \n23         North York  \n24         North York  \n25         North York  \n26         North York  \n27         North York  \n28         North York  \n29         North York  \n..                ...  \n73               York  \n74               York  \n75   Downtown Toronto  \n76       West Toronto  \n77       West Toronto  \n78       West Toronto  \n79         North York  \n80               York  \n81               York  \n82       West Toronto  \n83       West Toronto  \n84       West Toronto  \n85   Downtown Toronto  \n86        Mississauga  \n87       East Toronto  \n88          Etobicoke  \n89          Etobicoke  \n90          Etobicoke  \n91          Etobicoke  \n92          Etobicoke  \n93          Etobicoke  \n94          Etobicoke  \n95          Etobicoke  \n96         North York  \n97         North York  \n98               York  \n99          Etobicoke  \n100         Etobicoke  \n101         Etobicoke  \n102         Etobicoke  \n\n[103 rows x 3 columns]"
                    },
                    "execution_count": 39,
                    "metadata": {},
                    "output_type": "execute_result"
                }
            ],
            "source": "df2"
        },
        {
            "cell_type": "code",
            "execution_count": 40,
            "metadata": {},
            "outputs": [
                {
                    "data": {
                        "text/plain": "(103, 3)"
                    },
                    "execution_count": 40,
                    "metadata": {},
                    "output_type": "execute_result"
                }
            ],
            "source": "df2.shape"
        },
        {
            "cell_type": "markdown",
            "metadata": {},
            "source": "Question 2"
        },
        {
            "cell_type": "code",
            "execution_count": 41,
            "metadata": {},
            "outputs": [],
            "source": "df3 = pd.read_csv(\"http://cocl.us/Geospatial_data\")"
        },
        {
            "cell_type": "markdown",
            "metadata": {},
            "source": "Merging the dataframe containing the latitude and longitude of postal codes with the dataframe of the unique postal codes"
        },
        {
            "cell_type": "code",
            "execution_count": 42,
            "metadata": {},
            "outputs": [],
            "source": "df4 = pd.merge(df2, df3, how='outer', on=['Postal Code'])"
        },
        {
            "cell_type": "code",
            "execution_count": 43,
            "metadata": {},
            "outputs": [
                {
                    "data": {
                        "text/html": "<div>\n<style scoped>\n    .dataframe tbody tr th:only-of-type {\n        vertical-align: middle;\n    }\n\n    .dataframe tbody tr th {\n        vertical-align: top;\n    }\n\n    .dataframe thead th {\n        text-align: right;\n    }\n</style>\n<table border=\"1\" class=\"dataframe\">\n  <thead>\n    <tr style=\"text-align: right;\">\n      <th></th>\n      <th>Postal Code</th>\n      <th>Neighbourhood</th>\n      <th>Borough</th>\n      <th>Latitude</th>\n      <th>Longitude</th>\n    </tr>\n  </thead>\n  <tbody>\n    <tr>\n      <th>0</th>\n      <td>M1B</td>\n      <td>[Malvern, Rouge]</td>\n      <td>Scarborough</td>\n      <td>43.806686</td>\n      <td>-79.194353</td>\n    </tr>\n    <tr>\n      <th>1</th>\n      <td>M1C</td>\n      <td>[Rouge Hill, Port Union, Highland Creek]</td>\n      <td>Scarborough</td>\n      <td>43.784535</td>\n      <td>-79.160497</td>\n    </tr>\n    <tr>\n      <th>2</th>\n      <td>M1E</td>\n      <td>[Guildwood, Morningside, West Hill]</td>\n      <td>Scarborough</td>\n      <td>43.763573</td>\n      <td>-79.188711</td>\n    </tr>\n    <tr>\n      <th>3</th>\n      <td>M1G</td>\n      <td>[Woburn]</td>\n      <td>Scarborough</td>\n      <td>43.770992</td>\n      <td>-79.216917</td>\n    </tr>\n    <tr>\n      <th>4</th>\n      <td>M1H</td>\n      <td>[Cedarbrae]</td>\n      <td>Scarborough</td>\n      <td>43.773136</td>\n      <td>-79.239476</td>\n    </tr>\n    <tr>\n      <th>5</th>\n      <td>M1J</td>\n      <td>[Scarborough Village]</td>\n      <td>Scarborough</td>\n      <td>43.744734</td>\n      <td>-79.239476</td>\n    </tr>\n    <tr>\n      <th>6</th>\n      <td>M1K</td>\n      <td>[Kennedy Park, Ionview, East Birchmount Park]</td>\n      <td>Scarborough</td>\n      <td>43.727929</td>\n      <td>-79.262029</td>\n    </tr>\n    <tr>\n      <th>7</th>\n      <td>M1L</td>\n      <td>[Golden Mile, Clairlea, Oakridge]</td>\n      <td>Scarborough</td>\n      <td>43.711112</td>\n      <td>-79.284577</td>\n    </tr>\n    <tr>\n      <th>8</th>\n      <td>M1M</td>\n      <td>[Cliffside, Cliffcrest, Scarborough Village West]</td>\n      <td>Scarborough</td>\n      <td>43.716316</td>\n      <td>-79.239476</td>\n    </tr>\n    <tr>\n      <th>9</th>\n      <td>M1N</td>\n      <td>[Birch Cliff, Cliffside West]</td>\n      <td>Scarborough</td>\n      <td>43.692657</td>\n      <td>-79.264848</td>\n    </tr>\n    <tr>\n      <th>10</th>\n      <td>M1P</td>\n      <td>[Dorset Park, Wexford Heights, Scarborough Tow...</td>\n      <td>Scarborough</td>\n      <td>43.757410</td>\n      <td>-79.273304</td>\n    </tr>\n    <tr>\n      <th>11</th>\n      <td>M1R</td>\n      <td>[Wexford, Maryvale]</td>\n      <td>Scarborough</td>\n      <td>43.750072</td>\n      <td>-79.295849</td>\n    </tr>\n    <tr>\n      <th>12</th>\n      <td>M1S</td>\n      <td>[Agincourt]</td>\n      <td>Scarborough</td>\n      <td>43.794200</td>\n      <td>-79.262029</td>\n    </tr>\n    <tr>\n      <th>13</th>\n      <td>M1T</td>\n      <td>[Clarks Corners, Tam O'Shanter, Sullivan]</td>\n      <td>Scarborough</td>\n      <td>43.781638</td>\n      <td>-79.304302</td>\n    </tr>\n    <tr>\n      <th>14</th>\n      <td>M1V</td>\n      <td>[Milliken, Agincourt North, Steeles East, L'Am...</td>\n      <td>Scarborough</td>\n      <td>43.815252</td>\n      <td>-79.284577</td>\n    </tr>\n    <tr>\n      <th>15</th>\n      <td>M1W</td>\n      <td>[Steeles West, L'Amoreaux West]</td>\n      <td>Scarborough</td>\n      <td>43.799525</td>\n      <td>-79.318389</td>\n    </tr>\n    <tr>\n      <th>16</th>\n      <td>M1X</td>\n      <td>[Upper Rouge]</td>\n      <td>Scarborough</td>\n      <td>43.836125</td>\n      <td>-79.205636</td>\n    </tr>\n    <tr>\n      <th>17</th>\n      <td>M2H</td>\n      <td>[Hillcrest Village]</td>\n      <td>North York</td>\n      <td>43.803762</td>\n      <td>-79.363452</td>\n    </tr>\n    <tr>\n      <th>18</th>\n      <td>M2J</td>\n      <td>[Fairview, Henry Farm, Oriole]</td>\n      <td>North York</td>\n      <td>43.778517</td>\n      <td>-79.346556</td>\n    </tr>\n    <tr>\n      <th>19</th>\n      <td>M2K</td>\n      <td>[Bayview Village]</td>\n      <td>North York</td>\n      <td>43.786947</td>\n      <td>-79.385975</td>\n    </tr>\n    <tr>\n      <th>20</th>\n      <td>M2L</td>\n      <td>[York Mills, Silver Hills]</td>\n      <td>North York</td>\n      <td>43.757490</td>\n      <td>-79.374714</td>\n    </tr>\n    <tr>\n      <th>21</th>\n      <td>M2M</td>\n      <td>[Willowdale, Newtonbrook]</td>\n      <td>North York</td>\n      <td>43.789053</td>\n      <td>-79.408493</td>\n    </tr>\n    <tr>\n      <th>22</th>\n      <td>M2N</td>\n      <td>[Willowdale, Willowdale East]</td>\n      <td>North York</td>\n      <td>43.770120</td>\n      <td>-79.408493</td>\n    </tr>\n    <tr>\n      <th>23</th>\n      <td>M2P</td>\n      <td>[York Mills West]</td>\n      <td>North York</td>\n      <td>43.752758</td>\n      <td>-79.400049</td>\n    </tr>\n    <tr>\n      <th>24</th>\n      <td>M2R</td>\n      <td>[Willowdale, Willowdale West]</td>\n      <td>North York</td>\n      <td>43.782736</td>\n      <td>-79.442259</td>\n    </tr>\n    <tr>\n      <th>25</th>\n      <td>M3A</td>\n      <td>[Parkwoods]</td>\n      <td>North York</td>\n      <td>43.753259</td>\n      <td>-79.329656</td>\n    </tr>\n    <tr>\n      <th>26</th>\n      <td>M3B</td>\n      <td>[Don Mills]</td>\n      <td>North York</td>\n      <td>43.745906</td>\n      <td>-79.352188</td>\n    </tr>\n    <tr>\n      <th>27</th>\n      <td>M3C</td>\n      <td>[Don Mills]</td>\n      <td>North York</td>\n      <td>43.725900</td>\n      <td>-79.340923</td>\n    </tr>\n    <tr>\n      <th>28</th>\n      <td>M3H</td>\n      <td>[Bathurst Manor, Wilson Heights, Downsview North]</td>\n      <td>North York</td>\n      <td>43.754328</td>\n      <td>-79.442259</td>\n    </tr>\n    <tr>\n      <th>29</th>\n      <td>M3J</td>\n      <td>[Northwood Park, York University]</td>\n      <td>North York</td>\n      <td>43.767980</td>\n      <td>-79.487262</td>\n    </tr>\n    <tr>\n      <th>...</th>\n      <td>...</td>\n      <td>...</td>\n      <td>...</td>\n      <td>...</td>\n      <td>...</td>\n    </tr>\n    <tr>\n      <th>73</th>\n      <td>M6C</td>\n      <td>[Humewood-Cedarvale]</td>\n      <td>York</td>\n      <td>43.693781</td>\n      <td>-79.428191</td>\n    </tr>\n    <tr>\n      <th>74</th>\n      <td>M6E</td>\n      <td>[Caledonia-Fairbanks]</td>\n      <td>York</td>\n      <td>43.689026</td>\n      <td>-79.453512</td>\n    </tr>\n    <tr>\n      <th>75</th>\n      <td>M6G</td>\n      <td>[Christie]</td>\n      <td>Downtown Toronto</td>\n      <td>43.669542</td>\n      <td>-79.422564</td>\n    </tr>\n    <tr>\n      <th>76</th>\n      <td>M6H</td>\n      <td>[Dufferin, Dovercourt Village]</td>\n      <td>West Toronto</td>\n      <td>43.669005</td>\n      <td>-79.442259</td>\n    </tr>\n    <tr>\n      <th>77</th>\n      <td>M6J</td>\n      <td>[Little Portugal, Trinity]</td>\n      <td>West Toronto</td>\n      <td>43.647927</td>\n      <td>-79.419750</td>\n    </tr>\n    <tr>\n      <th>78</th>\n      <td>M6K</td>\n      <td>[Brockton, Parkdale Village, Exhibition Place]</td>\n      <td>West Toronto</td>\n      <td>43.636847</td>\n      <td>-79.428191</td>\n    </tr>\n    <tr>\n      <th>79</th>\n      <td>M6L</td>\n      <td>[North Park, Maple Leaf Park, Upwood Park]</td>\n      <td>North York</td>\n      <td>43.713756</td>\n      <td>-79.490074</td>\n    </tr>\n    <tr>\n      <th>80</th>\n      <td>M6M</td>\n      <td>[Del Ray, Mount Dennis, Keelsdale and Silverth...</td>\n      <td>York</td>\n      <td>43.691116</td>\n      <td>-79.476013</td>\n    </tr>\n    <tr>\n      <th>81</th>\n      <td>M6N</td>\n      <td>[Runnymede, The Junction North]</td>\n      <td>York</td>\n      <td>43.673185</td>\n      <td>-79.487262</td>\n    </tr>\n    <tr>\n      <th>82</th>\n      <td>M6P</td>\n      <td>[High Park, The Junction South]</td>\n      <td>West Toronto</td>\n      <td>43.661608</td>\n      <td>-79.464763</td>\n    </tr>\n    <tr>\n      <th>83</th>\n      <td>M6R</td>\n      <td>[Parkdale, Roncesvalles]</td>\n      <td>West Toronto</td>\n      <td>43.648960</td>\n      <td>-79.456325</td>\n    </tr>\n    <tr>\n      <th>84</th>\n      <td>M6S</td>\n      <td>[Runnymede, Swansea]</td>\n      <td>West Toronto</td>\n      <td>43.651571</td>\n      <td>-79.484450</td>\n    </tr>\n    <tr>\n      <th>85</th>\n      <td>M7A</td>\n      <td>[Queen's Park, Ontario Provincial Government]</td>\n      <td>Downtown Toronto</td>\n      <td>43.662301</td>\n      <td>-79.389494</td>\n    </tr>\n    <tr>\n      <th>86</th>\n      <td>M7R</td>\n      <td>[Canada Post Gateway Processing Centre]</td>\n      <td>Mississauga</td>\n      <td>43.636966</td>\n      <td>-79.615819</td>\n    </tr>\n    <tr>\n      <th>87</th>\n      <td>M7Y</td>\n      <td>[Business reply mail Processing Centre, South ...</td>\n      <td>East Toronto</td>\n      <td>43.662744</td>\n      <td>-79.321558</td>\n    </tr>\n    <tr>\n      <th>88</th>\n      <td>M8V</td>\n      <td>[New Toronto, Mimico South, Humber Bay Shores]</td>\n      <td>Etobicoke</td>\n      <td>43.605647</td>\n      <td>-79.501321</td>\n    </tr>\n    <tr>\n      <th>89</th>\n      <td>M8W</td>\n      <td>[Alderwood, Long Branch]</td>\n      <td>Etobicoke</td>\n      <td>43.602414</td>\n      <td>-79.543484</td>\n    </tr>\n    <tr>\n      <th>90</th>\n      <td>M8X</td>\n      <td>[The Kingsway, Montgomery Road, Old Mill North]</td>\n      <td>Etobicoke</td>\n      <td>43.653654</td>\n      <td>-79.506944</td>\n    </tr>\n    <tr>\n      <th>91</th>\n      <td>M8Y</td>\n      <td>[Old Mill South, King's Mill Park, Sunnylea, H...</td>\n      <td>Etobicoke</td>\n      <td>43.636258</td>\n      <td>-79.498509</td>\n    </tr>\n    <tr>\n      <th>92</th>\n      <td>M8Z</td>\n      <td>[Mimico NW, The Queensway West, South of Bloor...</td>\n      <td>Etobicoke</td>\n      <td>43.628841</td>\n      <td>-79.520999</td>\n    </tr>\n    <tr>\n      <th>93</th>\n      <td>M9A</td>\n      <td>[Islington Avenue, Humber Valley Village]</td>\n      <td>Etobicoke</td>\n      <td>43.667856</td>\n      <td>-79.532242</td>\n    </tr>\n    <tr>\n      <th>94</th>\n      <td>M9B</td>\n      <td>[West Deane Park, Princess Gardens, Martin Gro...</td>\n      <td>Etobicoke</td>\n      <td>43.650943</td>\n      <td>-79.554724</td>\n    </tr>\n    <tr>\n      <th>95</th>\n      <td>M9C</td>\n      <td>[Eringate, Bloordale Gardens, Old Burnhamthorp...</td>\n      <td>Etobicoke</td>\n      <td>43.643515</td>\n      <td>-79.577201</td>\n    </tr>\n    <tr>\n      <th>96</th>\n      <td>M9L</td>\n      <td>[Humber Summit]</td>\n      <td>North York</td>\n      <td>43.756303</td>\n      <td>-79.565963</td>\n    </tr>\n    <tr>\n      <th>97</th>\n      <td>M9M</td>\n      <td>[Humberlea, Emery]</td>\n      <td>North York</td>\n      <td>43.724766</td>\n      <td>-79.532242</td>\n    </tr>\n    <tr>\n      <th>98</th>\n      <td>M9N</td>\n      <td>[Weston]</td>\n      <td>York</td>\n      <td>43.706876</td>\n      <td>-79.518188</td>\n    </tr>\n    <tr>\n      <th>99</th>\n      <td>M9P</td>\n      <td>[Westmount]</td>\n      <td>Etobicoke</td>\n      <td>43.696319</td>\n      <td>-79.532242</td>\n    </tr>\n    <tr>\n      <th>100</th>\n      <td>M9R</td>\n      <td>[Kingsview Village, St. Phillips, Martin Grove...</td>\n      <td>Etobicoke</td>\n      <td>43.688905</td>\n      <td>-79.554724</td>\n    </tr>\n    <tr>\n      <th>101</th>\n      <td>M9V</td>\n      <td>[South Steeles, Silverstone, Humbergate, James...</td>\n      <td>Etobicoke</td>\n      <td>43.739416</td>\n      <td>-79.588437</td>\n    </tr>\n    <tr>\n      <th>102</th>\n      <td>M9W</td>\n      <td>[Northwest, West Humber - Clairville]</td>\n      <td>Etobicoke</td>\n      <td>43.706748</td>\n      <td>-79.594054</td>\n    </tr>\n  </tbody>\n</table>\n<p>103 rows \u00d7 5 columns</p>\n</div>",
                        "text/plain": "    Postal Code                                      Neighbourhood  \\\n0           M1B                                   [Malvern, Rouge]   \n1           M1C           [Rouge Hill, Port Union, Highland Creek]   \n2           M1E                [Guildwood, Morningside, West Hill]   \n3           M1G                                           [Woburn]   \n4           M1H                                        [Cedarbrae]   \n5           M1J                              [Scarborough Village]   \n6           M1K      [Kennedy Park, Ionview, East Birchmount Park]   \n7           M1L                  [Golden Mile, Clairlea, Oakridge]   \n8           M1M  [Cliffside, Cliffcrest, Scarborough Village West]   \n9           M1N                      [Birch Cliff, Cliffside West]   \n10          M1P  [Dorset Park, Wexford Heights, Scarborough Tow...   \n11          M1R                                [Wexford, Maryvale]   \n12          M1S                                        [Agincourt]   \n13          M1T          [Clarks Corners, Tam O'Shanter, Sullivan]   \n14          M1V  [Milliken, Agincourt North, Steeles East, L'Am...   \n15          M1W                    [Steeles West, L'Amoreaux West]   \n16          M1X                                      [Upper Rouge]   \n17          M2H                                [Hillcrest Village]   \n18          M2J                     [Fairview, Henry Farm, Oriole]   \n19          M2K                                  [Bayview Village]   \n20          M2L                         [York Mills, Silver Hills]   \n21          M2M                          [Willowdale, Newtonbrook]   \n22          M2N                      [Willowdale, Willowdale East]   \n23          M2P                                  [York Mills West]   \n24          M2R                      [Willowdale, Willowdale West]   \n25          M3A                                        [Parkwoods]   \n26          M3B                                        [Don Mills]   \n27          M3C                                        [Don Mills]   \n28          M3H  [Bathurst Manor, Wilson Heights, Downsview North]   \n29          M3J                  [Northwood Park, York University]   \n..          ...                                                ...   \n73          M6C                               [Humewood-Cedarvale]   \n74          M6E                              [Caledonia-Fairbanks]   \n75          M6G                                         [Christie]   \n76          M6H                     [Dufferin, Dovercourt Village]   \n77          M6J                         [Little Portugal, Trinity]   \n78          M6K     [Brockton, Parkdale Village, Exhibition Place]   \n79          M6L         [North Park, Maple Leaf Park, Upwood Park]   \n80          M6M  [Del Ray, Mount Dennis, Keelsdale and Silverth...   \n81          M6N                    [Runnymede, The Junction North]   \n82          M6P                    [High Park, The Junction South]   \n83          M6R                           [Parkdale, Roncesvalles]   \n84          M6S                               [Runnymede, Swansea]   \n85          M7A      [Queen's Park, Ontario Provincial Government]   \n86          M7R            [Canada Post Gateway Processing Centre]   \n87          M7Y  [Business reply mail Processing Centre, South ...   \n88          M8V     [New Toronto, Mimico South, Humber Bay Shores]   \n89          M8W                           [Alderwood, Long Branch]   \n90          M8X    [The Kingsway, Montgomery Road, Old Mill North]   \n91          M8Y  [Old Mill South, King's Mill Park, Sunnylea, H...   \n92          M8Z  [Mimico NW, The Queensway West, South of Bloor...   \n93          M9A          [Islington Avenue, Humber Valley Village]   \n94          M9B  [West Deane Park, Princess Gardens, Martin Gro...   \n95          M9C  [Eringate, Bloordale Gardens, Old Burnhamthorp...   \n96          M9L                                    [Humber Summit]   \n97          M9M                                 [Humberlea, Emery]   \n98          M9N                                           [Weston]   \n99          M9P                                        [Westmount]   \n100         M9R  [Kingsview Village, St. Phillips, Martin Grove...   \n101         M9V  [South Steeles, Silverstone, Humbergate, James...   \n102         M9W              [Northwest, West Humber - Clairville]   \n\n              Borough   Latitude  Longitude  \n0         Scarborough  43.806686 -79.194353  \n1         Scarborough  43.784535 -79.160497  \n2         Scarborough  43.763573 -79.188711  \n3         Scarborough  43.770992 -79.216917  \n4         Scarborough  43.773136 -79.239476  \n5         Scarborough  43.744734 -79.239476  \n6         Scarborough  43.727929 -79.262029  \n7         Scarborough  43.711112 -79.284577  \n8         Scarborough  43.716316 -79.239476  \n9         Scarborough  43.692657 -79.264848  \n10        Scarborough  43.757410 -79.273304  \n11        Scarborough  43.750072 -79.295849  \n12        Scarborough  43.794200 -79.262029  \n13        Scarborough  43.781638 -79.304302  \n14        Scarborough  43.815252 -79.284577  \n15        Scarborough  43.799525 -79.318389  \n16        Scarborough  43.836125 -79.205636  \n17         North York  43.803762 -79.363452  \n18         North York  43.778517 -79.346556  \n19         North York  43.786947 -79.385975  \n20         North York  43.757490 -79.374714  \n21         North York  43.789053 -79.408493  \n22         North York  43.770120 -79.408493  \n23         North York  43.752758 -79.400049  \n24         North York  43.782736 -79.442259  \n25         North York  43.753259 -79.329656  \n26         North York  43.745906 -79.352188  \n27         North York  43.725900 -79.340923  \n28         North York  43.754328 -79.442259  \n29         North York  43.767980 -79.487262  \n..                ...        ...        ...  \n73               York  43.693781 -79.428191  \n74               York  43.689026 -79.453512  \n75   Downtown Toronto  43.669542 -79.422564  \n76       West Toronto  43.669005 -79.442259  \n77       West Toronto  43.647927 -79.419750  \n78       West Toronto  43.636847 -79.428191  \n79         North York  43.713756 -79.490074  \n80               York  43.691116 -79.476013  \n81               York  43.673185 -79.487262  \n82       West Toronto  43.661608 -79.464763  \n83       West Toronto  43.648960 -79.456325  \n84       West Toronto  43.651571 -79.484450  \n85   Downtown Toronto  43.662301 -79.389494  \n86        Mississauga  43.636966 -79.615819  \n87       East Toronto  43.662744 -79.321558  \n88          Etobicoke  43.605647 -79.501321  \n89          Etobicoke  43.602414 -79.543484  \n90          Etobicoke  43.653654 -79.506944  \n91          Etobicoke  43.636258 -79.498509  \n92          Etobicoke  43.628841 -79.520999  \n93          Etobicoke  43.667856 -79.532242  \n94          Etobicoke  43.650943 -79.554724  \n95          Etobicoke  43.643515 -79.577201  \n96         North York  43.756303 -79.565963  \n97         North York  43.724766 -79.532242  \n98               York  43.706876 -79.518188  \n99          Etobicoke  43.696319 -79.532242  \n100         Etobicoke  43.688905 -79.554724  \n101         Etobicoke  43.739416 -79.588437  \n102         Etobicoke  43.706748 -79.594054  \n\n[103 rows x 5 columns]"
                    },
                    "execution_count": 43,
                    "metadata": {},
                    "output_type": "execute_result"
                }
            ],
            "source": "df4"
        },
        {
            "cell_type": "markdown",
            "metadata": {},
            "source": "Question 3"
        },
        {
            "cell_type": "code",
            "execution_count": null,
            "metadata": {},
            "outputs": [],
            "source": "import numpy as np # library to handle data in a vectorized manner\nimport pandas as pd # library for data analsysis\npd.set_option('display.max_columns', None)\npd.set_option('display.max_rows', None)\nimport json # library to handle JSON files\nimport requests # library to handle requests\nfrom pandas.io.json import json_normalize # tranform JSON file into a pandas dataframe\n# Matplotlib and associated plotting modules\nimport matplotlib.cm as cm\nimport matplotlib.colors as colors\n# import k-means from clustering stage\nfrom sklearn.cluster import KMeans\n!conda install -c conda-forge folium=0.5.0 --yes \nimport folium # map rendering library"
        },
        {
            "cell_type": "code",
            "execution_count": null,
            "metadata": {},
            "outputs": [],
            "source": "CLIENT_ID = ' YPVTKOPCYL5VI1NOKP5MZZ2NMCWATJK2502GY1MPWCB0PD4I ' \nCLIENT_SECRET = ' VOVPY3V1ZA5B11PMQLKFYAY0ZNROQTY4TCJ1U1GR1LAXZMFO '\nVERSION = '20180605' # Foursquare API version\nLIMIT = 100 # A default Foursquare API limit value\n\ndef getNearbyVenues(neighs, latitudes, longitudes, radius=500):  \n    venues_list=[]\n    for neigh, lat, lng in zip(neighs, latitudes, longitudes):\n        print(name)\n        url = 'https://api.foursquare.com/v2/venues/explore?&client_id={}&client_secret={}&v={}&ll={},{}&radius={}&limit={}'.format(\n            CLIENT_ID, \n            CLIENT_SECRET, \n            VERSION, \n            lat, \n            lng, \n            radius, \n            LIMIT)\n        results = requests.get(url).json()[\"response\"]['groups'][0]['items']\n    # return only relevant information for each nearby venue\n        venues_list.append([(\n            name, \n            lat, \n            lng, \n            v['venue']['name'], \n            v['venue']['location']['lat'], \n            v['venue']['location']['lng'],  \n            v['venue']['categories'][0]['name']) for v in results])\n\n    nearby_venues = pd.DataFrame([item for venue_list in venues_list for item in venue_list])\n    nearby_venues.columns = ['Neighborhood', \n                  'Neighborhood Latitude', \n                  'Neighborhood Longitude', \n                  'Venue', \n                  'Venue Latitude', \n                  'Venue Longitude', \n                  'Venue Category']\n    \n    return(nearby_venues)"
        },
        {
            "cell_type": "code",
            "execution_count": null,
            "metadata": {},
            "outputs": [],
            "source": "toronto_venues = getNearbyVenues(names=df4['Neighbourhood'],\n                                   latitudes=df4['Latitude'],\n                                   longitudes=df4['Longitude']\n                                  )"
        },
        {
            "cell_type": "code",
            "execution_count": null,
            "metadata": {},
            "outputs": [],
            "source": "# one hot encoding\ntoronto_onehot = pd.get_dummies(toronto_venues[['Venue Category']], prefix=\"\", prefix_sep=\"\")\n\n# add neighborhood column back to dataframe\ntoronto_onehot['Neighborhood'] = toronto_venues['Neighborhood'] \n\n# move neighborhood column to the first column\nfixed_columns = [toronto_onehot.columns[-1]] + list(toronto_onehot.columns[:-1])\ntoronto_onehot = toronto_onehot[fixed_columns]\n\ntoronto_onehot.head()"
        },
        {
            "cell_type": "code",
            "execution_count": null,
            "metadata": {},
            "outputs": [],
            "source": "toronto_grouped = toronto_onehot.groupby('Neighborhood').mean().reset_index()"
        },
        {
            "cell_type": "code",
            "execution_count": null,
            "metadata": {},
            "outputs": [],
            "source": "# set number of clusters\nkclusters = 5\n\ntoronto_grouped_clustering = toronto_grouped.drop('Neighborhood', 1)\n\n# run k-means clustering\nkmeans = KMeans(n_clusters=kclusters, random_state=0).fit(toronto_grouped_clustering)\n\n# check cluster labels generated for each row in the dataframe\nkmeans.labels_[0:10] "
        },
        {
            "cell_type": "code",
            "execution_count": null,
            "metadata": {},
            "outputs": [],
            "source": "# add clustering labels\nneighborhoods_venues_sorted.insert(0, 'Cluster Labels', kmeans.labels_)\n\ntoronto_merged = df4\n\n# merge toronto_grouped with toronto_data to add latitude/longitude for each neighborhood\ntoronto_merged = toronto_merged.join(neighborhoods_venues_sorted.set_index('Neighborhood'), on='Neighborhood')\n\ntoronto_merged.head() # check the last columns!"
        },
        {
            "cell_type": "code",
            "execution_count": null,
            "metadata": {},
            "outputs": [],
            "source": "# create map\nmap_clusters = folium.Map(location=[latitude, longitude], zoom_start=11)\n\n# set color scheme for the clusters\nx = np.arange(kclusters)\nys = [i + x + (i*x)**2 for i in range(kclusters)]\ncolors_array = cm.rainbow(np.linspace(0, 1, len(ys)))\nrainbow = [colors.rgb2hex(i) for i in colors_array]\n\n# add markers to the map\nmarkers_colors = []\nfor lat, lon, poi, cluster in zip(toronto_merged['Latitude'], toronto_merged['Longitude'], toronto_merged['Neighborhood'], toronto_merged['Cluster Labels']):\n    label = folium.Popup(str(poi) + ' Cluster ' + str(cluster), parse_html=True)\n    folium.CircleMarker(\n        [lat, lon],\n        radius=5,\n        popup=label,\n        color=rainbow[cluster-1],\n        fill=True,\n        fill_color=rainbow[cluster-1],\n        fill_opacity=0.7).add_to(map_clusters)\n       \nmap_clusters"
        }
    ],
    "metadata": {
        "kernelspec": {
            "display_name": "Python 3.6",
            "language": "python",
            "name": "python3"
        },
        "language_info": {
            "codemirror_mode": {
                "name": "ipython",
                "version": 3
            },
            "file_extension": ".py",
            "mimetype": "text/x-python",
            "name": "python",
            "nbconvert_exporter": "python",
            "pygments_lexer": "ipython3",
            "version": "3.6.9"
        }
    },
    "nbformat": 4,
    "nbformat_minor": 1
}